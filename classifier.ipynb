{
  "nbformat": 4,
  "nbformat_minor": 0,
  "metadata": {
    "colab": {
      "name": "classifier.ipynb",
      "provenance": [],
      "machine_shape": "hm",
      "include_colab_link": true
    },
    "kernelspec": {
      "name": "python3",
      "display_name": "Python 3"
    },
    "accelerator": "GPU"
  },
  "cells": [
    {
      "cell_type": "markdown",
      "metadata": {
        "id": "view-in-github",
        "colab_type": "text"
      },
      "source": [
        "<a href=\"https://colab.research.google.com/github/avinashganguri/Python-DL4/blob/master/classifier.ipynb\" target=\"_parent\"><img src=\"https://colab.research.google.com/assets/colab-badge.svg\" alt=\"Open In Colab\"/></a>"
      ]
    },
    {
      "cell_type": "code",
      "metadata": {
        "id": "-xOVM7kFq0uL",
        "colab_type": "code",
        "outputId": "973b60db-2ee3-49df-d4f8-b4a9a61c52f6",
        "colab": {
          "base_uri": "https://localhost:8080/",
          "height": 136
        }
      },
      "source": [
        "%tensorflow_version 1.15\n",
        "import tensorflow as tf\n",
        "from keras import Sequential\n",
        "from keras.datasets import mnist\n",
        "import numpy as np\n",
        "from keras.layers import Dense\n",
        "from keras.utils import to_categorical\n",
        "from keras.preprocessing.image import ImageDataGenerator, load_img\n",
        "import os\n",
        "import matplotlib.pyplot as plt\n",
        "from keras.layers import Dense, Flatten, Dropout, Input, BatchNormalization\n",
        "from keras.constraints import maxnorm\n",
        "from keras.models import Model\n",
        "from keras.optimizers import SGD, Adam\n",
        "from keras.layers.convolutional import Conv2D, MaxPooling2D\n",
        "from keras.utils import np_utils\n",
        "from keras import backend as K\n",
        "K.common.image_dim_ordering()"
      ],
      "execution_count": 0,
      "outputs": [
        {
          "output_type": "stream",
          "text": [
            "`%tensorflow_version` only switches the major version: 1.x or 2.x.\n",
            "You set: `1.15`. This will be interpreted as: `1.x`.\n",
            "\n",
            "\n",
            "TensorFlow 1.x selected.\n"
          ],
          "name": "stdout"
        },
        {
          "output_type": "stream",
          "text": [
            "Using TensorFlow backend.\n"
          ],
          "name": "stderr"
        },
        {
          "output_type": "execute_result",
          "data": {
            "text/plain": [
              "'tf'"
            ]
          },
          "metadata": {
            "tags": []
          },
          "execution_count": 1
        }
      ]
    },
    {
      "cell_type": "code",
      "metadata": {
        "id": "zEHhM7rq9vDb",
        "colab_type": "code",
        "outputId": "c1fc3d49-5f76-457c-be44-0e14e237ea63",
        "colab": {
          "base_uri": "https://localhost:8080/",
          "height": 122
        }
      },
      "source": [
        "from google.colab import drive\n",
        "drive.mount('/content/drive')"
      ],
      "execution_count": 0,
      "outputs": [
        {
          "output_type": "stream",
          "text": [
            "Go to this URL in a browser: https://accounts.google.com/o/oauth2/auth?client_id=947318989803-6bn6qk8qdgf4n4g3pfee6491hc0brc4i.apps.googleusercontent.com&redirect_uri=urn%3aietf%3awg%3aoauth%3a2.0%3aoob&response_type=code&scope=email%20https%3a%2f%2fwww.googleapis.com%2fauth%2fdocs.test%20https%3a%2f%2fwww.googleapis.com%2fauth%2fdrive%20https%3a%2f%2fwww.googleapis.com%2fauth%2fdrive.photos.readonly%20https%3a%2f%2fwww.googleapis.com%2fauth%2fpeopleapi.readonly\n",
            "\n",
            "Enter your authorization code:\n",
            "··········\n",
            "Mounted at /content/drive\n"
          ],
          "name": "stdout"
        }
      ]
    },
    {
      "cell_type": "code",
      "metadata": {
        "id": "VWbKDaXmts2p",
        "colab_type": "code",
        "colab": {}
      },
      "source": [
        "from PIL import Image\n",
        "import glob\n",
        "import cv2\n",
        "train_images=[]\n",
        "for filename in glob.glob('/content/drive/My Drive/Colab Notebooks/DL4/birds/*.jpg'):\n",
        "    img_normal = cv2.imread(filename)\n",
        "    output = cv2.resize(img_normal, (50,50))\n",
        "    train_images.append([output,0])"
      ],
      "execution_count": 0,
      "outputs": []
    },
    {
      "cell_type": "code",
      "metadata": {
        "id": "2WpHZ8nKxobx",
        "colab_type": "code",
        "colab": {}
      },
      "source": [
        "from PIL import Image\n",
        "import glob\n",
        "import cv2\n",
        "for filename in glob.glob('/content/drive/My Drive/Colab Notebooks/DL4/dogs/*.jpg'):\n",
        "    img_normal = cv2.imread(filename)\n",
        "    output = cv2.resize(img_normal,(50,50))\n",
        "    train_images.append([output,1])"
      ],
      "execution_count": 0,
      "outputs": []
    },
    {
      "cell_type": "code",
      "metadata": {
        "id": "UNVAufGmzy5r",
        "colab_type": "code",
        "colab": {}
      },
      "source": [
        "import random\n",
        "random.shuffle(train_images)"
      ],
      "execution_count": 0,
      "outputs": []
    },
    {
      "cell_type": "code",
      "metadata": {
        "id": "I4DZ9Lvx0LuS",
        "colab_type": "code",
        "colab": {}
      },
      "source": [
        "x_train=[]\n",
        "y_train=[]\n",
        "for im,label in train_images:\n",
        "  x_train.append(im)\n",
        "  y_train.append(label)"
      ],
      "execution_count": 0,
      "outputs": []
    },
    {
      "cell_type": "code",
      "metadata": {
        "id": "s2wlT_vg1xKD",
        "colab_type": "code",
        "colab": {}
      },
      "source": [
        "x_train=np.array(x_train).reshape(-1,50,50,3)"
      ],
      "execution_count": 0,
      "outputs": []
    },
    {
      "cell_type": "code",
      "metadata": {
        "id": "dyiRSjBhoi4P",
        "colab_type": "code",
        "outputId": "41815b34-0f75-4c8c-8433-cba9fdd1dc6a",
        "colab": {
          "base_uri": "https://localhost:8080/",
          "height": 850
        }
      },
      "source": [
        "train_images[0]"
      ],
      "execution_count": 0,
      "outputs": [
        {
          "output_type": "execute_result",
          "data": {
            "text/plain": [
              "[array([[[230, 253, 255],\n",
              "         [230, 253, 255],\n",
              "         [230, 253, 255],\n",
              "         ...,\n",
              "         [235, 255, 254],\n",
              "         [234, 255, 253],\n",
              "         [234, 255, 253]],\n",
              " \n",
              "        [[230, 253, 255],\n",
              "         [230, 253, 255],\n",
              "         [230, 253, 255],\n",
              "         ...,\n",
              "         [234, 255, 254],\n",
              "         [233, 255, 253],\n",
              "         [233, 255, 253]],\n",
              " \n",
              "        [[230, 253, 255],\n",
              "         [230, 253, 255],\n",
              "         [230, 253, 255],\n",
              "         ...,\n",
              "         [231, 255, 253],\n",
              "         [230, 254, 252],\n",
              "         [230, 254, 252]],\n",
              " \n",
              "        ...,\n",
              " \n",
              "        [[ 21,  68,  92],\n",
              "         [ 33,  82, 106],\n",
              "         [ 28,  80, 103],\n",
              "         ...,\n",
              "         [ 76, 103, 113],\n",
              "         [ 21,  56,  71],\n",
              "         [ 16,  47,  67]],\n",
              " \n",
              "        [[ 20,  62,  87],\n",
              "         [ 14,  58,  82],\n",
              "         [ 20,  69,  92],\n",
              "         ...,\n",
              "         [  7,  24,  33],\n",
              "         [ 16,  50,  62],\n",
              "         [ 32,  71,  86]],\n",
              " \n",
              "        [[ 22,  52,  79],\n",
              "         [ 24,  57,  83],\n",
              "         [ 13,  48,  74],\n",
              "         ...,\n",
              "         [ 40,  68,  83],\n",
              "         [ 27,  65,  84],\n",
              "         [ 17,  56,  78]]], dtype=uint8), 0]"
            ]
          },
          "metadata": {
            "tags": []
          },
          "execution_count": 8
        }
      ]
    },
    {
      "cell_type": "markdown",
      "metadata": {
        "id": "c7Ax05PxoSEU",
        "colab_type": "text"
      },
      "source": [
        ""
      ]
    },
    {
      "cell_type": "code",
      "metadata": {
        "id": "1IlUMv9PoStq",
        "colab_type": "code",
        "outputId": "da06c372-6e2c-4580-8aef-16be1df58066",
        "colab": {
          "base_uri": "https://localhost:8080/",
          "height": 850
        }
      },
      "source": [
        "type(x_train)\n",
        "x_train.shape\n",
        "x_train[0]"
      ],
      "execution_count": 0,
      "outputs": [
        {
          "output_type": "execute_result",
          "data": {
            "text/plain": [
              "array([[[230, 253, 255],\n",
              "        [230, 253, 255],\n",
              "        [230, 253, 255],\n",
              "        ...,\n",
              "        [235, 255, 254],\n",
              "        [234, 255, 253],\n",
              "        [234, 255, 253]],\n",
              "\n",
              "       [[230, 253, 255],\n",
              "        [230, 253, 255],\n",
              "        [230, 253, 255],\n",
              "        ...,\n",
              "        [234, 255, 254],\n",
              "        [233, 255, 253],\n",
              "        [233, 255, 253]],\n",
              "\n",
              "       [[230, 253, 255],\n",
              "        [230, 253, 255],\n",
              "        [230, 253, 255],\n",
              "        ...,\n",
              "        [231, 255, 253],\n",
              "        [230, 254, 252],\n",
              "        [230, 254, 252]],\n",
              "\n",
              "       ...,\n",
              "\n",
              "       [[ 21,  68,  92],\n",
              "        [ 33,  82, 106],\n",
              "        [ 28,  80, 103],\n",
              "        ...,\n",
              "        [ 76, 103, 113],\n",
              "        [ 21,  56,  71],\n",
              "        [ 16,  47,  67]],\n",
              "\n",
              "       [[ 20,  62,  87],\n",
              "        [ 14,  58,  82],\n",
              "        [ 20,  69,  92],\n",
              "        ...,\n",
              "        [  7,  24,  33],\n",
              "        [ 16,  50,  62],\n",
              "        [ 32,  71,  86]],\n",
              "\n",
              "       [[ 22,  52,  79],\n",
              "        [ 24,  57,  83],\n",
              "        [ 13,  48,  74],\n",
              "        ...,\n",
              "        [ 40,  68,  83],\n",
              "        [ 27,  65,  84],\n",
              "        [ 17,  56,  78]]], dtype=uint8)"
            ]
          },
          "metadata": {
            "tags": []
          },
          "execution_count": 9
        }
      ]
    },
    {
      "cell_type": "code",
      "metadata": {
        "id": "_C77AIUF2B5k",
        "colab_type": "code",
        "outputId": "56641c5d-ff86-4bf4-dfa5-89faf58fd2a5",
        "colab": {
          "base_uri": "https://localhost:8080/",
          "height": 281
        }
      },
      "source": [
        "import matplotlib.pyplot as plt\n",
        "plt.imshow(x_train[35,:,:])\n",
        "plt.title('Ground Truth : {}'.format(y_train[35]))\n",
        "plt.show()\n"
      ],
      "execution_count": 0,
      "outputs": [
        {
          "output_type": "display_data",
          "data": {
            "image/png": "[encoded data removed]",
            "text/plain": [
              "<Figure size 432x288 with 1 Axes>"
            ]
          },
          "metadata": {
            "tags": [],
            "needs_background": "light"
          }
        }
      ]
    },
    {
      "cell_type": "code",
      "metadata": {
        "id": "C6zYDe4y3AN8",
        "colab_type": "code",
        "colab": {}
      },
      "source": [
        "test_images=[]\n",
        "for filename in glob.glob('/content/drive/My Drive/Colab Notebooks/DL4/test/birds/*.jpg'): \n",
        "    img_normal = cv2.imread(filename)\n",
        "    output = cv2.resize(img_normal, (50,50))\n",
        "    test_images.append([output,0])"
      ],
      "execution_count": 0,
      "outputs": []
    },
    {
      "cell_type": "code",
      "metadata": {
        "id": "t2Qi0yBR3b01",
        "colab_type": "code",
        "colab": {}
      },
      "source": [
        "for filename in glob.glob('/content/drive/My Drive/Colab Notebooks/DL4/test/dogs/*.jpg'): \n",
        "    img_normal = cv2.imread(filename)\n",
        "    output = cv2.resize(img_normal, (50,50))\n",
        "    test_images.append([output,1])"
      ],
      "execution_count": 0,
      "outputs": []
    },
    {
      "cell_type": "code",
      "metadata": {
        "id": "s-vveX1y3vzJ",
        "colab_type": "code",
        "colab": {}
      },
      "source": [
        "random.shuffle(test_images)"
      ],
      "execution_count": 0,
      "outputs": []
    },
    {
      "cell_type": "code",
      "metadata": {
        "id": "_FGl7vzE3zq4",
        "colab_type": "code",
        "colab": {}
      },
      "source": [
        "x_test=[]\n",
        "y_test=[]\n",
        "for im,label in test_images:\n",
        "  x_test.append(im)\n",
        "  y_test.append(label)"
      ],
      "execution_count": 0,
      "outputs": []
    },
    {
      "cell_type": "code",
      "metadata": {
        "id": "jOoODJ264Bao",
        "colab_type": "code",
        "colab": {}
      },
      "source": [
        "x_test=np.array(x_test).reshape(-1,50,50,3)"
      ],
      "execution_count": 0,
      "outputs": []
    },
    {
      "cell_type": "code",
      "metadata": {
        "id": "9APCK0tp4UFs",
        "colab_type": "code",
        "colab": {}
      },
      "source": [
        "x_train = x_train.astype('float32')\n",
        "x_test = x_test.astype('float32')\n",
        "x_train = x_train / 255.0\n",
        "x_test = x_test / 255.0"
      ],
      "execution_count": 0,
      "outputs": []
    },
    {
      "cell_type": "code",
      "metadata": {
        "id": "4VTcRk9m4poj",
        "colab_type": "code",
        "colab": {}
      },
      "source": [
        "y_train = np_utils.to_categorical(y_train)\n",
        "y_test = np_utils.to_categorical(y_test)\n",
        "num_classes = y_test.shape[1]"
      ],
      "execution_count": 0,
      "outputs": []
    },
    {
      "cell_type": "code",
      "metadata": {
        "id": "LnQad1Tn41ap",
        "colab_type": "code",
        "outputId": "bb041b44-7835-45e3-9740-492d0812cb71",
        "colab": {
          "base_uri": "https://localhost:8080/",
          "height": 122
        }
      },
      "source": [
        "model = Sequential()\n",
        "model.add(Conv2D(256, (3, 3), input_shape=(x_train.shape[1:]), padding='same', activation='relu'))\n",
        "model.add(Dropout(0.5))\n",
        "model.add(Conv2D(256, (3, 3), activation='relu', padding='same'))\n",
        "model.add(MaxPooling2D(pool_size=(2, 2)))\n",
        "model.add(Dropout(0.5))\n",
        "model.add(Flatten())\n",
        "model.add(Dense(512, activation='relu', kernel_constraint=maxnorm(3)))\n",
        "model.add(Dropout(0.3))\n",
        "model.add(Dense(num_classes, activation='softmax'))"
      ],
      "execution_count": 0,
      "outputs": [
        {
          "output_type": "stream",
          "text": [
            "WARNING:tensorflow:From /tensorflow-1.15.2/python3.6/tensorflow_core/python/ops/resource_variable_ops.py:1630: calling BaseResourceVariable.__init__ (from tensorflow.python.ops.resource_variable_ops) with constraint is deprecated and will be removed in a future version.\n",
            "Instructions for updating:\n",
            "If using Keras pass *_constraint arguments to layers.\n",
            "WARNING:tensorflow:From /usr/local/lib/python3.6/dist-packages/keras/backend/tensorflow_backend.py:4070: The name tf.nn.max_pool is deprecated. Please use tf.nn.max_pool2d instead.\n",
            "\n"
          ],
          "name": "stdout"
        }
      ]
    },
    {
      "cell_type": "code",
      "metadata": {
        "id": "SugkVFcd5Bk-",
        "colab_type": "code",
        "colab": {}
      },
      "source": [
        "epochs = 20\n",
        "lrate = 0.001\n",
        "decay = lrate/epochs\n",
        "sgd = Adam(lr=lrate)\n",
        "model.compile(loss='categorical_crossentropy', optimizer=sgd, metrics=['accuracy'])"
      ],
      "execution_count": 0,
      "outputs": []
    },
    {
      "cell_type": "code",
      "metadata": {
        "id": "GHYzTeqy5N1i",
        "colab_type": "code",
        "outputId": "af3e7532-0857-4979-8a2d-a24b4ffa2b36",
        "colab": {
          "base_uri": "https://localhost:8080/",
          "height": 785
        }
      },
      "source": [
        "model.fit(x_train, y_train, validation_data=(x_test, y_test), epochs=epochs, batch_size=128)"
      ],
      "execution_count": 0,
      "outputs": [
        {
          "output_type": "stream",
          "text": [
            "WARNING:tensorflow:From /usr/local/lib/python3.6/dist-packages/keras/backend/tensorflow_backend.py:422: The name tf.global_variables is deprecated. Please use tf.compat.v1.global_variables instead.\n",
            "\n",
            "Train on 409 samples, validate on 400 samples\n",
            "Epoch 1/20\n",
            "409/409 [==============================] - 8s 19ms/step - loss: 12.7012 - accuracy: 0.4866 - val_loss: 0.6982 - val_accuracy: 0.3425\n",
            "Epoch 2/20\n",
            "409/409 [==============================] - 1s 1ms/step - loss: 0.6941 - accuracy: 0.5208 - val_loss: 0.6950 - val_accuracy: 0.3400\n",
            "Epoch 3/20\n",
            "409/409 [==============================] - 1s 1ms/step - loss: 0.6889 - accuracy: 0.5623 - val_loss: 0.6960 - val_accuracy: 0.3400\n",
            "Epoch 4/20\n",
            "409/409 [==============================] - 1s 1ms/step - loss: 0.6808 - accuracy: 0.5623 - val_loss: 0.7194 - val_accuracy: 0.3400\n",
            "Epoch 5/20\n",
            "409/409 [==============================] - 1s 1ms/step - loss: 0.6708 - accuracy: 0.5623 - val_loss: 0.6973 - val_accuracy: 0.3400\n",
            "Epoch 6/20\n",
            "409/409 [==============================] - 1s 1ms/step - loss: 0.6722 - accuracy: 0.5623 - val_loss: 0.6991 - val_accuracy: 0.3400\n",
            "Epoch 7/20\n",
            "409/409 [==============================] - 1s 1ms/step - loss: 0.6674 - accuracy: 0.5623 - val_loss: 0.6963 - val_accuracy: 0.3400\n",
            "Epoch 8/20\n",
            "409/409 [==============================] - 1s 1ms/step - loss: 0.6794 - accuracy: 0.5623 - val_loss: 0.6955 - val_accuracy: 0.3400\n",
            "Epoch 9/20\n",
            "409/409 [==============================] - 1s 1ms/step - loss: 0.6810 - accuracy: 0.5623 - val_loss: 0.6948 - val_accuracy: 0.3400\n",
            "Epoch 10/20\n",
            "409/409 [==============================] - 1s 1ms/step - loss: 0.6783 - accuracy: 0.5623 - val_loss: 0.7192 - val_accuracy: 0.3400\n",
            "Epoch 11/20\n",
            "409/409 [==============================] - 1s 1ms/step - loss: 0.6580 - accuracy: 0.5623 - val_loss: 0.6939 - val_accuracy: 0.3400\n",
            "Epoch 12/20\n",
            "409/409 [==============================] - 1s 1ms/step - loss: 0.6707 - accuracy: 0.5623 - val_loss: 0.6924 - val_accuracy: 0.4025\n",
            "Epoch 13/20\n",
            "409/409 [==============================] - 1s 1ms/step - loss: 0.6671 - accuracy: 0.5623 - val_loss: 0.6942 - val_accuracy: 0.4325\n",
            "Epoch 14/20\n",
            "409/409 [==============================] - 1s 1ms/step - loss: 0.6611 - accuracy: 0.5746 - val_loss: 0.6887 - val_accuracy: 0.6550\n",
            "Epoch 15/20\n",
            "409/409 [==============================] - 1s 1ms/step - loss: 0.6647 - accuracy: 0.6137 - val_loss: 0.6927 - val_accuracy: 0.5375\n",
            "Epoch 16/20\n",
            "409/409 [==============================] - 1s 1ms/step - loss: 0.6632 - accuracy: 0.5648 - val_loss: 0.6900 - val_accuracy: 0.5825\n",
            "Epoch 17/20\n",
            "409/409 [==============================] - 1s 1ms/step - loss: 0.6503 - accuracy: 0.6406 - val_loss: 0.6792 - val_accuracy: 0.6800\n",
            "Epoch 18/20\n",
            "409/409 [==============================] - 1s 1ms/step - loss: 0.6462 - accuracy: 0.6333 - val_loss: 0.7129 - val_accuracy: 0.4975\n",
            "Epoch 19/20\n",
            "409/409 [==============================] - 1s 1ms/step - loss: 0.6458 - accuracy: 0.5990 - val_loss: 0.6712 - val_accuracy: 0.6925\n",
            "Epoch 20/20\n",
            "409/409 [==============================] - 1s 1ms/step - loss: 0.6572 - accuracy: 0.7262 - val_loss: 0.6675 - val_accuracy: 0.6775\n"
          ],
          "name": "stdout"
        },
        {
          "output_type": "execute_result",
          "data": {
            "text/plain": [
              "<keras.callbacks.callbacks.History at 0x7fa555ae9828>"
            ]
          },
          "metadata": {
            "tags": []
          },
          "execution_count": 25
        }
      ]
    },
    {
      "cell_type": "code",
      "metadata": {
        "id": "KwQkfmYI9sjk",
        "colab_type": "code",
        "colab": {}
      },
      "source": [
        "import pickle\n",
        "with open(\"/content/drive/My Drive/Colab Notebooks/DL4/model.pk2\",'wb') as file:\n",
        "      pickle.dump(model,file)"
      ],
      "execution_count": 0,
      "outputs": []
    },
    {
      "cell_type": "code",
      "metadata": {
        "id": "PLO8JfNiAPxq",
        "colab_type": "code",
        "colab": {}
      },
      "source": [
        "x=model.predict_classes(x_train[[50],:])"
      ],
      "execution_count": 0,
      "outputs": []
    },
    {
      "cell_type": "code",
      "metadata": {
        "id": "OcN4HBInCddD",
        "colab_type": "code",
        "outputId": "7a151f41-c57d-4ad5-c644-3156292e8671",
        "colab": {
          "base_uri": "https://localhost:8080/",
          "height": 34
        }
      },
      "source": [
        "print(x[0])"
      ],
      "execution_count": 0,
      "outputs": [
        {
          "output_type": "stream",
          "text": [
            "1\n"
          ],
          "name": "stdout"
        }
      ]
    }
  ]
}